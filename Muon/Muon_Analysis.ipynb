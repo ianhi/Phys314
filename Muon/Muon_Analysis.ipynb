{
 "cells": [
  {
   "cell_type": "markdown",
   "metadata": {},
   "source": [
    "# Do Actual Fit"
   ]
  },
  {
   "cell_type": "code",
   "execution_count": 1,
   "metadata": {
    "collapsed": false
   },
   "outputs": [
    {
     "ename": "ImportError",
     "evalue": "No module named 'lmfit'",
     "output_type": "error",
     "traceback": [
      "\u001b[1;31m---------------------------------------------------------------------------\u001b[0m",
      "\u001b[1;31mImportError\u001b[0m                               Traceback (most recent call last)",
      "\u001b[1;32m<ipython-input-1-d9a22eb416c6>\u001b[0m in \u001b[0;36m<module>\u001b[1;34m()\u001b[0m\n\u001b[0;32m      2\u001b[0m \u001b[1;32mimport\u001b[0m \u001b[0mnumpy\u001b[0m \u001b[1;32mas\u001b[0m \u001b[0mnp\u001b[0m\u001b[1;33m\u001b[0m\u001b[0m\n\u001b[0;32m      3\u001b[0m \u001b[1;32mfrom\u001b[0m \u001b[0mnumpy\u001b[0m \u001b[1;32mimport\u001b[0m \u001b[0mloadtxt\u001b[0m\u001b[1;33m\u001b[0m\u001b[0m\n\u001b[1;32m----> 4\u001b[1;33m \u001b[1;32mfrom\u001b[0m \u001b[0mlmfit\u001b[0m\u001b[1;33m.\u001b[0m\u001b[0mmodels\u001b[0m \u001b[1;32mimport\u001b[0m \u001b[0mExponentialModel\u001b[0m\u001b[1;33m,\u001b[0m \u001b[0mConstantModel\u001b[0m\u001b[1;33m\u001b[0m\u001b[0m\n\u001b[0m\u001b[0;32m      5\u001b[0m \u001b[1;32mimport\u001b[0m \u001b[0mmatplotlib\u001b[0m\u001b[1;33m.\u001b[0m\u001b[0mpyplot\u001b[0m \u001b[1;32mas\u001b[0m \u001b[0mplt\u001b[0m\u001b[1;33m\u001b[0m\u001b[0m\n\u001b[0;32m      6\u001b[0m \u001b[1;32mimport\u001b[0m \u001b[0mseaborn\u001b[0m \u001b[1;32mas\u001b[0m \u001b[0msns\u001b[0m\u001b[1;33m\u001b[0m\u001b[0m\n",
      "\u001b[1;31mImportError\u001b[0m: No module named 'lmfit'"
     ]
    }
   ],
   "source": [
    "%matplotlib inline\n",
    "import numpy as np\n",
    "from numpy import loadtxt\n",
    "from lmfit.models import ExponentialModel, ConstantModel\n",
    "import matplotlib.pyplot as plt\n",
    "import seaborn as sns\n",
    "\n",
    "\n",
    "#Import and data and make histogram\n",
    "data_208=loadtxt('../Classes/Phys314/Muon/Ian_Corina/Corina_Ian_Thres208mVIntervals2015_11_05-13-33.txt'\\\n",
    "                 ,unpack=True)[1]\n",
    "counts_208,bin_edges_208=np.histogram(data_208[3:],20)\n",
    "bin_centres_208 = (bin_edges_208[:-1] + bin_edges_208[1:])/2.\n",
    "err_208 = np.sqrt(counts_208)\n",
    "\n",
    "#Create Components of composite model\n",
    "exp_mod = ExponentialModel(prefix=\"exp_\")\n",
    "cnst_mod = ConstantModel(prefix=\"cnst_\")\n",
    "\n",
    "#Initial Guess\n",
    "pars = exp_mod.make_params(exp_decay=2000,exp_amp=1400)\n",
    "pars += cnst_mod.guess(counts_208,x=bin_centres_208,c=600)\n",
    "\n",
    "#Do fit\n",
    "mod = exp_mod+cnst_mod\n",
    "out = mod.fit(counts_208, pars, x=bin_centres_208,weights=1/err_208)\n",
    "plt.ion()\n",
    "\n",
    "print(out.fit_report())\n",
    "sns.set_style('darkgrid')\n",
    "#Make A plot\n",
    "fig1 = plt.figure(1,figsize=(15,10))\n",
    "frame1=fig1.add_axes((.1,.1,.8,.75))\n",
    "plt.plot(bin_centres_208, counts_208, 'o')\n",
    "plt.plot(bin_centres_208, out.best_fit, '-')\n",
    "plt.xlabel('Lifetime')\n",
    "plt.ylabel('Counts')\n",
    "\n",
    "frame2=fig1.add_axes((.1,.9,.8,.2))\n",
    "\n",
    "plt.errorbar(bin_centres_208,out.residual,fmt='o',yerr=err_208)\n",
    "plt.axhline(color='black')\n",
    "frame2.set_xticklabels([])\n",
    "\n",
    "plt.show()"
   ]
  },
  {
   "cell_type": "markdown",
   "metadata": {},
   "source": [
    "# Find ChiSq vs Binning"
   ]
  },
  {
   "cell_type": "code",
   "execution_count": null,
   "metadata": {
    "collapsed": false
   },
   "outputs": [],
   "source": [
    "def doFit(bins=50):\n",
    "    counts_208,bin_edges_208=np.histogram(data_208[3:],bins)\n",
    "    bin_centres_208 = (bin_edges_208[:-1] + bin_edges_208[1:])/2.\n",
    "\n",
    "    if counts_208[0]-counts_208[1]<0:\n",
    "        bin_centres_208=bin_centres_208[1:]\n",
    "        counts_208=counts_208[1:]\n",
    "    if bins<35:\n",
    "        bin_centres_208=bin_centres_208[1:]\n",
    "        counts_208=counts_208[1:]\n",
    "    err_208 = np.sqrt(counts_208)\n",
    "    mod = ExponentialModel()+ConstantModel()\n",
    "\n",
    "\n",
    "    exp_mod = ExponentialModel(prefix=\"exp_\")\n",
    "    cnst_mod = ConstantModel(prefix=\"cnst_\")\n",
    "\n",
    "    pars = exp_mod.make_params(exp_decay=2000,exp_amp=1400)\n",
    "    pars += cnst_mod.guess(counts_208,x=bin_centres_208,c=counts_208[len(counts_208)-1])\n",
    "\n",
    "    mod = exp_mod+cnst_mod\n",
    "\n",
    "    out = mod.fit(counts_208, pars, x=bin_centres_208,weights=1/err_208)\n",
    "    return (bin_centres_208,counts_208),out\n",
    "redChi=[]\n",
    "maxBins=200\n",
    "minBins=10\n",
    "for i in range(minBins,maxBins):\n",
    "    redChi.append(doFit(i))\n",
    "def makePlot(pp,minB,maxB,interactive=False):\n",
    "    from bokeh import mpl\n",
    "    from bokeh.plotting import output_file, show\n",
    "    redChi=[]\n",
    "    for i in range(minB,maxB):\n",
    "        redChi.append(doFit(i)[1].redchi)\n",
    "    plt.rc('text', usetex=True)\n",
    "    plt.ylabel(r'$\\tilde{\\chi}^2$')\n",
    "    plt.xlabel('Number of Bins')\n",
    "    plt.plot(range(minB,maxB),redChi,'ko')\n",
    "    plt.savefig(pp, format='pdf')\n",
    "    if interactive:\n",
    "        #make interactive plot\n",
    "        plt.ylabel('Reduced ChiSq') # bokeh can't handle latex yet\n",
    "        output_file(\"sinerror.html\")\n",
    "        show(mpl.to_bokeh())\n",
    "def fit_plot(bins=50,plt_init=False):\n",
    "    data,out=doFit(bins)\n",
    "    sns.set_style('darkgrid')\n",
    "    #Make A plot\n",
    "    fig1 = plt.figure(1,figsize=(15,10))\n",
    "    frame1=fig1.add_axes((.1,.1,.8,.75))\n",
    "    plt.errorbar(data[0], data[1], fmt='o',yerr=np.sqrt(data[1]))\n",
    "    plt.plot(data[0], out.best_fit, '-')\n",
    "    if plt_init:\n",
    "        plt.plot(data[0],out.init_fit,'--')\n",
    "    plt.xlabel('Lifetime')\n",
    "    plt.ylabel('Counts')\n",
    "\n",
    "    frame2=fig1.add_axes((.1,.9,.8,.2))\n",
    "\n",
    "    plt.errorbar(data[0],out.residual,fmt='o',yerr=np.sqrt(data[1]))\n",
    "    plt.axhline(color='black')\n",
    "    frame2.set_xticklabels([])\n",
    "    plt.show()"
   ]
  },
  {
   "cell_type": "code",
   "execution_count": null,
   "metadata": {
    "collapsed": false
   },
   "outputs": [],
   "source": [
    "\n",
    "\n",
    "from matplotlib.backends.backend_pdf import PdfPages\n",
    "pp = PdfPages('multipage.pdf')\n",
    "#makePlot(pp,10,25)\n",
    "#makePlot(pp,10,50)\n",
    "makePlot(pp,10,200,True)\n",
    "\n",
    "pp.close()\n"
   ]
  },
  {
   "cell_type": "markdown",
   "metadata": {},
   "source": [
    "# Rate Stuff"
   ]
  },
  {
   "cell_type": "code",
   "execution_count": null,
   "metadata": {
    "collapsed": true
   },
   "outputs": [],
   "source": [
    "def red(time):\n",
    "    '''\n",
    "    This should eliminate the issue of the weird time jump about 2/3 of way through collection also that t=0 if 0 counts\n",
    "    '''\n",
    "    return np.arange(0,len(time))\n",
    "def hours(secs,counts):\n",
    "    import numpy\n",
    "    hours=numpy.arange(0,secs[len(secs)-1]//3600+1)\n",
    "    binned_counts=[0]*len(hours)\n",
    "    for i in range(0,len(secs)):\n",
    "        index=i//3600\n",
    "        binned_counts[index]+=counts[i]\n",
    "    return hours,binned_counts"
   ]
  },
  {
   "cell_type": "code",
   "execution_count": null,
   "metadata": {
    "collapsed": false
   },
   "outputs": [],
   "source": [
    "'''\n",
    "Load data and cut out end where every value is 0 for several days. Also cut the good data short as the last hour is not a complete hour\n",
    "\n",
    "'''\n",
    "time_400, rate_400 = np.loadtxt('../Classes/Phys314/Muon/Ian_Corina/Corina_Ian_Thres400mVRate2015_11_10-13-24.txt', unpack=True)\n",
    "\n",
    "last_hour_index =424800\n",
    "time_400=time_400[0:last_hour_index]\n",
    "rate_400=rate_400[0:last_hour_index]\n",
    "hour_time,binned_counts=hours(red(time_400),rate_400)"
   ]
  },
  {
   "cell_type": "code",
   "execution_count": null,
   "metadata": {
    "collapsed": false
   },
   "outputs": [],
   "source": [
    "def sin(x, amp,omega,shift,y0):\n",
    "    \"\"\" model decaying sine wave, subtract data\"\"\"\n",
    "    #amp = params['amp'].value\n",
    "    #shift = params['shift'].value\n",
    "    #omega = params['omega'].value\n",
    "    \n",
    "    return amp * np.sin(x * omega + shift)+y0\n",
    "from lmfit import Model\n",
    "gmod = Model(sin)\n",
    "params = gmod.make_params(amp=5, omega=.26,shift=0,y0=18800)\n",
    "params.add('omega',value=2*np.pi/24,vary=False)\n",
    "#params.pretty_print()\n",
    "result = gmod.fit(binned_counts,params,x=hour_time,weights=1/np.sqrt(binned_counts))\n",
    "\n",
    "\n",
    "print(result.fit_report())\n",
    "x=hour_time\n",
    "y=binned_counts\n",
    "plt.figure(figsize=(15,10))\n",
    "plt.errorbar(x, y,fmt='.',yerr=np.sqrt(y))\n",
    "#plt.plot(x, result.init_fit, 'k--')\n",
    "plt.plot(x, result.best_fit, '-')\n",
    "plt.show()"
   ]
  },
  {
   "cell_type": "code",
   "execution_count": null,
   "metadata": {
    "collapsed": false
   },
   "outputs": [],
   "source": [
    "time_jason, rate_jason = np.loadtxt('../Classes/Phys314/Muon/JasonRate2014_11_11-13-21.txt', unpack=True)\n",
    "last_hour_index=421200\n",
    "time_jason=time_jason[0:last_hour_index]\n",
    "rate_jason=rate_jason[0:last_hour_index]\n",
    "hour_time_jason,binned_counts_jason=hours(red(time_jason),rate_jason)"
   ]
  },
  {
   "cell_type": "code",
   "execution_count": null,
   "metadata": {
    "collapsed": false
   },
   "outputs": [],
   "source": [
    "result = gmod.fit(binned_counts_jason,params,x=hour_time_jason,weights=1/np.sqrt(binned_counts_jason))\n",
    "\n",
    "print(result.fit_report())\n",
    "x=hour_time_jason\n",
    "y=binned_counts_jason\n",
    "plt.figure(figsize=(15,10))\n",
    "plt.errorbar(x, y,fmt='.',yerr=np.sqrt(y))\n",
    "#plt.plot(x, result.init_fit, 'k--')\n",
    "plt.plot(x, result.best_fit, '-')\n",
    "plt.title('Jason Data')\n",
    "plt.xlabel('Hours')\n",
    "plt.ylabel('Counts')\n",
    "plt.show()"
   ]
  },
  {
   "cell_type": "code",
   "execution_count": null,
   "metadata": {
    "collapsed": true
   },
   "outputs": [],
   "source": []
  }
 ],
 "metadata": {
  "kernelspec": {
   "display_name": "Python 3",
   "language": "python",
   "name": "python3"
  },
  "language_info": {
   "codemirror_mode": {
    "name": "ipython",
    "version": 3
   },
   "file_extension": ".py",
   "mimetype": "text/x-python",
   "name": "python",
   "nbconvert_exporter": "python",
   "pygments_lexer": "ipython3",
   "version": "3.4.3"
  },
  "name": "Muon_Analysis.ipynb"
 },
 "nbformat": 4,
 "nbformat_minor": 0
}

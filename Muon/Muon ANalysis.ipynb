{
 "cells": [
  {
   "cell_type": "code",
   "execution_count": null,
   "metadata": {
    "collapsed": true
   },
   "outputs": [],
   "source": []
  },
  {
   "cell_type": "code",
   "execution_count": 2,
   "metadata": {
    "collapsed": false
   },
   "outputs": [],
   "source": [
    "import numpy as np\n",
    "import matplotlib.pyplot as plt\n",
    "time, rate = np.loadtxt('Ian_Corina/Corina_Ian_Thres400mVRate2015_11_10-13-24.txt', unpack=True)"
   ]
  },
  {
   "cell_type": "code",
   "execution_count": 5,
   "metadata": {
    "collapsed": false
   },
   "outputs": [
    {
     "ename": "IndexError",
     "evalue": "list index out of range",
     "output_type": "error",
     "traceback": [
      "\u001b[1;31m---------------------------------------------------------------------------\u001b[0m",
      "\u001b[1;31mIndexError\u001b[0m                                Traceback (most recent call last)",
      "\u001b[1;32m<ipython-input-5-4fe2f52b81cc>\u001b[0m in \u001b[0;36m<module>\u001b[1;34m()\u001b[0m\n\u001b[0;32m      7\u001b[0m     \u001b[0mindex\u001b[0m\u001b[1;33m=\u001b[0m\u001b[0mi\u001b[0m\u001b[1;33m//\u001b[0m\u001b[1;36m3600\u001b[0m\u001b[1;33m\u001b[0m\u001b[0m\n\u001b[0;32m      8\u001b[0m     \u001b[1;31m#print(index)\u001b[0m\u001b[1;33m\u001b[0m\u001b[1;33m\u001b[0m\u001b[0m\n\u001b[1;32m----> 9\u001b[1;33m     \u001b[0mhour_rate\u001b[0m\u001b[1;33m[\u001b[0m\u001b[0mindex\u001b[0m\u001b[1;33m]\u001b[0m\u001b[1;33m+=\u001b[0m\u001b[0mrate\u001b[0m\u001b[1;33m[\u001b[0m\u001b[0mi\u001b[0m\u001b[1;33m]\u001b[0m\u001b[1;33m\u001b[0m\u001b[0m\n\u001b[0m\u001b[0;32m     10\u001b[0m \u001b[0mhour_time\u001b[0m\u001b[1;33m=\u001b[0m\u001b[0mnp\u001b[0m\u001b[1;33m.\u001b[0m\u001b[0marange\u001b[0m\u001b[1;33m(\u001b[0m\u001b[1;36m0\u001b[0m\u001b[1;33m,\u001b[0m\u001b[0mlen\u001b[0m\u001b[1;33m(\u001b[0m\u001b[0mhour_rate\u001b[0m\u001b[1;33m)\u001b[0m\u001b[1;33m)\u001b[0m\u001b[1;33m\u001b[0m\u001b[0m\n",
      "\u001b[1;31mIndexError\u001b[0m: list index out of range"
     ]
    }
   ],
   "source": [
    "\n",
    "plt.plot(time,rate)\n",
    "time_red = time- [time[0]]*len(time)\n",
    "time_red2 = np.arange(0,len(time))\n",
    "hour_rate=[0]*(time_red2[len(time_red2)-1]//3600)\n",
    "for i in range(0,len(rate)):\n",
    "    index=i//3600\n",
    "    #print(index)\n",
    "    hour_rate[index]+=rate[i]\n",
    "hour_time=np.arange(0,len(hour_rate))"
   ]
  },
  {
   "cell_type": "code",
   "execution_count": 14,
   "metadata": {
    "collapsed": false
   },
   "outputs": [
    {
     "name": "stdout",
     "output_type": "stream",
     "text": [
      "[  3.52959468e+09   3.52959473e+09   3.52959474e+09 ...,   3.53002460e+09\n",
      "   3.53002464e+09   3.53002470e+09]\n"
     ]
    }
   ],
   "source": [
    "print(time)"
   ]
  },
  {
   "cell_type": "code",
   "execution_count": 15,
   "metadata": {
    "collapsed": false
   },
   "outputs": [
    {
     "data": {
      "text/plain": [
       "267.0"
      ]
     },
     "execution_count": 15,
     "metadata": {},
     "output_type": "execute_result"
    }
   ],
   "source": [
    "3.52959468e+09-3529594413"
   ]
  },
  {
   "cell_type": "code",
   "execution_count": 27,
   "metadata": {
    "collapsed": false
   },
   "outputs": [
    {
     "name": "stdout",
     "output_type": "stream",
     "text": [
      "3529594413.0\n",
      "4.0\n",
      "3529594414.0\n"
     ]
    }
   ],
   "source": [
    "time, rate = np.genfromtxt('Ian_Corina/Corina_Ian_Thres400mVRate2015_11_10-13-24.txt',delimiter='\\t',unpack=True)\n",
    "print(time[0])\n",
    "print(rate[0])\n",
    "print(time[1])"
   ]
  },
  {
   "cell_type": "code",
   "execution_count": 1,
   "metadata": {
    "collapsed": true
   },
   "outputs": [],
   "source": [
    "from uncertainties import *"
   ]
  },
  {
   "cell_type": "code",
   "execution_count": 10,
   "metadata": {
    "collapsed": false
   },
   "outputs": [
    {
     "name": "stdout",
     "output_type": "stream",
     "text": [
      "1.23505\n",
      "1.8598837209302324\n"
     ]
    }
   ],
   "source": [
    "print(19.7608/(19-3))\n",
    "print(79.975/(46-3))"
   ]
  },
  {
   "cell_type": "code",
   "execution_count": 46,
   "metadata": {
    "collapsed": false
   },
   "outputs": [
    {
     "name": "stdout",
     "output_type": "stream",
     "text": [
      "(2.03+/-0.09)e+03\n"
     ]
    }
   ],
   "source": [
    "invTau208=ufloat(.00049336,2.27e-5)\n",
    "tau_208=1/invTau208\n",
    "print(tau_208)\n",
    "invTau400=ufloat(.000479,6.92e-5)\n",
    "tau_400=1/invTau400\n",
    "print(tau_400)\n",
    "print(.5*(tau_208+tau_400))\n",
    "print(life(.5*(tau_208+tau_400)))"
   ]
  },
  {
   "cell_type": "code",
   "execution_count": 50,
   "metadata": {
    "collapsed": false
   },
   "outputs": [
    {
     "name": "stdout",
     "output_type": "stream",
     "text": [
      "(2.09+/-0.30)e+03\n",
      "(2.06+/-0.16)e+03\n",
      "(2.07+/-0.32)e+03\n"
     ]
    }
   ],
   "source": []
  },
  {
   "cell_type": "code",
   "execution_count": 48,
   "metadata": {
    "collapsed": false
   },
   "outputs": [
    {
     "name": "stdout",
     "output_type": "stream",
     "text": [
      "297897311.995\n",
      "5.03529216143e-05\n",
      "0.999655409379\n"
     ]
    }
   ],
   "source": [
    "import numpy as np\n",
    "E=4*10**9\n",
    "mc2=105*10**6\n",
    "c=2.98*10**8\n",
    "L=15*10**3\n",
    "v=c*np.sqrt(1-(mc2/E)**2)\n",
    "print(v)\n",
    "print(L/v)\n",
    "print(v/c)"
   ]
  },
  {
   "cell_type": "code",
   "execution_count": 27,
   "metadata": {
    "collapsed": false
   },
   "outputs": [
    {
     "name": "stdout",
     "output_type": "stream",
     "text": [
      "38.0952380952\n",
      "393.75\n"
     ]
    }
   ],
   "source": [
    "#Muon Frame\n",
    "y=1/np.sqrt(1-(v/c)**2)\n",
    "print(y)\n",
    "Lm = L/y\n",
    "print(Lm)"
   ]
  },
  {
   "cell_type": "code",
   "execution_count": 90,
   "metadata": {
    "collapsed": false
   },
   "outputs": [
    {
     "name": "stdout",
     "output_type": "stream",
     "text": [
      "Observed=======\n",
      "(2.21+/-0.08)e+03\n",
      "(2.18+/-0.29)e+03\n",
      "Free Life TIme========\n",
      "(2.35+/-0.15)e+03\n",
      "(2.3+/-0.6)e+03\n"
     ]
    }
   ],
   "source": [
    "invTau208=ufloat(.000453,1.54e-5)\n",
    "invTau400=ufloat(.0004577,6.06e-5)\n",
    "\n",
    "tau_208=1/invTau208\n",
    "tau_400=1/invTau400\n",
    "print(\"Observed=======\")\n",
    "print(tau_208)\n",
    "print(tau_400)\n",
    "print(\"Free Life TIme========\")\n",
    "print(life(tau_208))\n",
    "print(life(tau_400))"
   ]
  },
  {
   "cell_type": "code",
   "execution_count": 89,
   "metadata": {
    "collapsed": false
   },
   "outputs": [
    {
     "name": "stdout",
     "output_type": "stream",
     "text": [
      "(2.35+/-0.15)e+03\n",
      "(2.2+/-0.5)e+03\n"
     ]
    }
   ],
   "source": [
    "def life(t_obs):\n",
    "    return -26559*t_obs/(10*t_obs-46989)\n",
    "print(life(tau_208))\n",
    "print(life(tau_400))"
   ]
  },
  {
   "cell_type": "code",
   "execution_count": 91,
   "metadata": {
    "collapsed": false
   },
   "outputs": [
    {
     "name": "stdout",
     "output_type": "stream",
     "text": [
      "(2.35+/-0.15)e+03\n",
      "(2.3+/-0.6)e+03\n",
      "(2.33+/-0.30)e+03\n"
     ]
    }
   ],
   "source": [
    "print(life(tau_208))\n",
    "print(life(tau_400))\n",
    "avg=.5*(life(tau_208)+life(tau_400))\n",
    "print(avg)"
   ]
  },
  {
   "cell_type": "code",
   "execution_count": 80,
   "metadata": {
    "collapsed": false
   },
   "outputs": [
    {
     "data": {
      "text/plain": [
       "2205.7526027880713+/-72.49363371612463"
      ]
     },
     "execution_count": 80,
     "metadata": {},
     "output_type": "execute_result"
    }
   ],
   "source": [
    "tau_208"
   ]
  },
  {
   "cell_type": "code",
   "execution_count": 127,
   "metadata": {
    "collapsed": false
   },
   "outputs": [
    {
     "data": {
      "text/plain": [
       "2184.837229626393+/-289.27493142966875"
      ]
     },
     "execution_count": 127,
     "metadata": {},
     "output_type": "execute_result"
    }
   ],
   "source": [
    "tau_400"
   ]
  },
  {
   "cell_type": "code",
   "execution_count": 156,
   "metadata": {
    "collapsed": false
   },
   "outputs": [
    {
     "name": "stdout",
     "output_type": "stream",
     "text": [
      "(-1.5+/-9.3)e+01\n",
      "(0.1+/-3.8)e+02\n"
     ]
    },
    {
     "data": {
      "text/plain": [
       "13.657846207118498+/-381.7879500533227"
      ]
     },
     "execution_count": 156,
     "metadata": {},
     "output_type": "execute_result"
    }
   ],
   "source": [
    "#Ratio of mu+ to mu-\n",
    "def ratio(t_obs):\n",
    "    return -(2196/2043)*((2043-t_obs)/(2196-t_obs))\n",
    "print(ratio(tau_208))\n",
    "print(ratio(tau_400))\n",
    "ratio(tau_400)\n"
   ]
  },
  {
   "cell_type": "code",
   "execution_count": 157,
   "metadata": {
    "collapsed": false
   },
   "outputs": [
    {
     "data": {
      "text/plain": [
       "-15.368739033271407+/-93.23249503507131"
      ]
     },
     "execution_count": 157,
     "metadata": {},
     "output_type": "execute_result"
    }
   ],
   "source": [
    "ratio(tau_208)"
   ]
  },
  {
   "cell_type": "code",
   "execution_count": 92,
   "metadata": {
    "collapsed": false
   },
   "outputs": [
    {
     "data": {
      "text/plain": [
       "0.15399999999999991"
      ]
     },
     "execution_count": 92,
     "metadata": {},
     "output_type": "execute_result"
    }
   ],
   "source": [
    "2.35-2.196"
   ]
  },
  {
   "cell_type": "code",
   "execution_count": 93,
   "metadata": {
    "collapsed": false
   },
   "outputs": [
    {
     "data": {
      "text/plain": [
       "1.0266666666666662"
      ]
     },
     "execution_count": 93,
     "metadata": {},
     "output_type": "execute_result"
    }
   ],
   "source": [
    "_/.15"
   ]
  },
  {
   "cell_type": "code",
   "execution_count": 113,
   "metadata": {
    "collapsed": false
   },
   "outputs": [
    {
     "data": {
      "text/plain": [
       "8.913031219211471e-53+/-6.08813607869636e-59"
      ]
     },
     "execution_count": 113,
     "metadata": {},
     "output_type": "execute_result"
    }
   ],
   "source": [
    "#Fermi Coupling COnstant\n",
    "m=105*10**6\n",
    "import scipy.constants as cnsts\n",
    "from uncertainties.umath import *\n",
    "hbar=6.58*10**-25\n",
    "def couple(t_obs):\n",
    "    return sqrt(192*cnsts.pi**3*hbar**7*c**6/(t_obs*.105**5))\n",
    "couple(ufloat(2196*10**-9,.003*10**-9))\n"
   ]
  },
  {
   "cell_type": "code",
   "execution_count": 114,
   "metadata": {
    "collapsed": false
   },
   "outputs": [
    {
     "data": {
      "text/plain": [
       "1.1822217761036711e-05+/-8.075285355899393e-12"
      ]
     },
     "execution_count": 114,
     "metadata": {},
     "output_type": "execute_result"
    }
   ],
   "source": [
    "_/(hbar*c)**3"
   ]
  },
  {
   "cell_type": "code",
   "execution_count": 119,
   "metadata": {
    "collapsed": false
   },
   "outputs": [
    {
     "name": "stdout",
     "output_type": "stream",
     "text": [
      "(8.7+/-1.1)e-53\n",
      "(1.15+/-0.14)e-05\n"
     ]
    }
   ],
   "source": [
    "print(couple(life(tau_400)/10**9))\n",
    "print(couple(life(tau_400)/10**9)/(hbar*c)**3)"
   ]
  },
  {
   "cell_type": "code",
   "execution_count": 117,
   "metadata": {
    "collapsed": false
   },
   "outputs": [
    {
     "name": "stdout",
     "output_type": "stream",
     "text": [
      "(2.3+/-0.6)e-06\n"
     ]
    }
   ],
   "source": [
    "print(life(tau_400)/10**9)"
   ]
  },
  {
   "cell_type": "code",
   "execution_count": 120,
   "metadata": {
    "collapsed": false
   },
   "outputs": [
    {
     "name": "stdout",
     "output_type": "stream",
     "text": [
      "(8.61+/-0.28)e-53\n",
      "(1.14+/-0.04)e-05\n"
     ]
    }
   ],
   "source": [
    "print(couple(life(tau_208)/10**9))\n",
    "print(couple(life(tau_208)/10**9)/(hbar*c)**3)"
   ]
  },
  {
   "cell_type": "code",
   "execution_count": 121,
   "metadata": {
    "collapsed": false
   },
   "outputs": [
    {
     "name": "stdout",
     "output_type": "stream",
     "text": [
      "(8.2+/-1.0)e-53\n",
      "(1.08+/-0.14)e-05\n"
     ]
    }
   ],
   "source": [
    "print(couple(life(avg)/10**9))\n",
    "print(couple(life(avg)/10**9)/(hbar*c)**3)"
   ]
  },
  {
   "cell_type": "code",
   "execution_count": 122,
   "metadata": {
    "collapsed": false
   },
   "outputs": [
    {
     "data": {
      "text/plain": [
       "2330.6831789346033+/-295.38247490886965"
      ]
     },
     "execution_count": 122,
     "metadata": {},
     "output_type": "execute_result"
    }
   ],
   "source": [
    "avg"
   ]
  },
  {
   "cell_type": "code",
   "execution_count": 124,
   "metadata": {
    "collapsed": false
   },
   "outputs": [
    {
     "data": {
      "text/plain": [
       "8.793521176216305e-53"
      ]
     },
     "execution_count": 124,
     "metadata": {},
     "output_type": "execute_result"
    }
   ],
   "source": [
    "1.16637*10**-5 *(hbar*c)**3"
   ]
  },
  {
   "cell_type": "code",
   "execution_count": null,
   "metadata": {
    "collapsed": true
   },
   "outputs": [],
   "source": []
  }
 ],
 "metadata": {
  "kernelspec": {
   "display_name": "Python 3",
   "language": "python",
   "name": "python3"
  },
  "language_info": {
   "codemirror_mode": {
    "name": "ipython",
    "version": 3
   },
   "file_extension": ".py",
   "mimetype": "text/x-python",
   "name": "python",
   "nbconvert_exporter": "python",
   "pygments_lexer": "ipython3",
   "version": "3.4.3"
  },
  "name": "Muon ANalysis.ipynb"
 },
 "nbformat": 4,
 "nbformat_minor": 0
}
